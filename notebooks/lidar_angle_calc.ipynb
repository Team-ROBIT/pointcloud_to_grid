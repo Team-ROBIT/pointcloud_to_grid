{
 "cells": [
  {
   "cell_type": "code",
   "execution_count": 1,
   "metadata": {},
   "outputs": [],
   "source": [
    "import numpy as np\n",
    "import math"
   ]
  },
  {
   "cell_type": "code",
   "execution_count": 2,
   "metadata": {},
   "outputs": [],
   "source": [
    "angle_increment = 45/128"
   ]
  },
  {
   "cell_type": "code",
   "execution_count": 3,
   "metadata": {},
   "outputs": [],
   "source": [
    "lidar_ring_ranges = []\n",
    "lidar_ring_diff = []"
   ]
  },
  {
   "cell_type": "code",
   "execution_count": 4,
   "metadata": {},
   "outputs": [],
   "source": [
    "initial_angle = 22.5\n",
    "prev_range = 0\n",
    "\n",
    "for ring in range(64):\n",
    "    current_angle = (initial_angle - (ring * angle_increment))\n",
    "    current_range = 1.13 / np.tan(np.radians(current_angle))\n",
    "    lidar_ring_ranges.append(current_range)\n",
    "    lidar_ring_diff.append(current_range - prev_range)\n",
    "    prev_range = current_range"
   ]
  },
  {
   "cell_type": "code",
   "execution_count": 5,
   "metadata": {},
   "outputs": [
    {
     "name": "stdout",
     "output_type": "stream",
     "text": [
      "[2.728061325481597, 2.7761193686232555, 2.82564849682351, 2.87672121159342, 2.929414845044022, 2.9838119692770353, 3.040000848125962, 3.0980759364485078, 3.158138432914239, 3.220296893095972, 3.284667910682055, 3.351376875806615, 3.420558820879084, 3.492359365922678, 3.5669357773530908, 3.6444581564031786, 3.7251107761003017, 3.80909358892124, 3.896623931097317, 3.9879384541597926, 4.083295319877393, 4.1829767014637556, 4.28729164209978, 4.396579331775894, 4.5112128756601955, 4.631603642215086, 4.758206297858163, 4.891524658054148, 5.0321185135882835, 5.180611627057575, 5.337701140506999, 5.504168693544535, 5.680893626102208, 5.868868736569717, 6.069219191554213, 6.283225348003602, 6.5123504657842535, 6.758274578608695, 7.0229361813306115, 7.308583922190001, 7.6178412181189366, 7.953787726213348, 8.320063034696396, 8.720999979870616, 9.161797958154905, 9.64875096823764, 10.18955166727995, 10.79370274107217, 11.473082537998012, 12.242736956583318, 13.122010713421828, 14.136200734757722, 15.31903624385824, 16.71651162331536, 18.39301899472701, 20.441569184830705, 23.00167841623552, 26.292586447350747, 30.67969285224066, 36.82071683630203, 46.031096775454124, 61.38018883370366, 92.07606143339716, 184.15905654697244]\n"
     ]
    }
   ],
   "source": [
    "print(lidar_ring_ranges)"
   ]
  },
  {
   "cell_type": "code",
   "execution_count": 30,
   "metadata": {},
   "outputs": [],
   "source": [
    "# invert lida_ring_diff\n",
    "lidar_ring_diff = lidar_ring_diff[::-1]"
   ]
  }
 ],
 "metadata": {
  "kernelspec": {
   "display_name": "Python 3.8.10 64-bit",
   "language": "python",
   "name": "python3"
  },
  "language_info": {
   "codemirror_mode": {
    "name": "ipython",
    "version": 3
   },
   "file_extension": ".py",
   "mimetype": "text/x-python",
   "name": "python",
   "nbconvert_exporter": "python",
   "pygments_lexer": "ipython3",
   "version": "3.8.10"
  },
  "orig_nbformat": 4,
  "vscode": {
   "interpreter": {
    "hash": "31f2aee4e71d21fbe5cf8b01ff0e069b9275f58929596ceb00d14d90e3e16cd6"
   }
  }
 },
 "nbformat": 4,
 "nbformat_minor": 2
}
