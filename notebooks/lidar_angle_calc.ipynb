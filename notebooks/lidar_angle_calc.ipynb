{
 "cells": [
  {
   "cell_type": "code",
   "execution_count": 1,
   "metadata": {},
   "outputs": [],
   "source": [
    "import numpy as np\n",
    "import math"
   ]
  },
  {
   "cell_type": "code",
   "execution_count": 2,
   "metadata": {},
   "outputs": [],
   "source": [
    "angle_increment = 45/128"
   ]
  },
  {
   "cell_type": "code",
   "execution_count": 36,
   "metadata": {},
   "outputs": [],
   "source": [
    "lidar_ring_ranges = []\n",
    "lidar_ring_diff = []"
   ]
  },
  {
   "cell_type": "code",
   "execution_count": 37,
   "metadata": {},
   "outputs": [],
   "source": [
    "initial_angle = 22.5\n",
    "prev_range = 0\n",
    "\n",
    "for ring in range(64):\n",
    "    current_angle = (initial_angle - (ring * angle_increment))\n",
    "    current_range = 1.13 / np.tan(np.radians(current_angle))\n",
    "    lidar_ring_ranges.append(current_range)\n",
    "    lidar_ring_diff.append(current_range - prev_range)\n",
    "    prev_range = current_range"
   ]
  },
  {
   "cell_type": "code",
   "execution_count": 40,
   "metadata": {},
   "outputs": [
    {
     "name": "stdout",
     "output_type": "stream",
     "text": [
      "[2.728061325481597, 0.0480580431416584, 0.04952912820025457, 0.05107271476990993, 0.05269363345060185, 0.05439712423301346, 0.05618887884892665, 0.05807508832254582, 0.06006249646573103, 0.06215846018173332, 0.06437101758608277, 0.06670896512456004, 0.06918194507246911, 0.0718005450435939, 0.07457641143041283, 0.07752237905008785, 0.08065261969712312, 0.08398281282093834, 0.08753034217607691, 0.09131452306247567, 0.09535686571760005, 0.09968138158636286, 0.10431494063602464, 0.10928768967611369, 0.11463354388430158, 0.12039076655489023, 0.1266026556430777, 0.1333183601959842, 0.14059385553413595, 0.14849311346929106, 0.15708951344942435, 0.1664675530375357, 0.17672493255767296, 0.1879751104675096, 0.20035045498449566, 0.21400615644938892, 0.2291251177806517, 0.24592411282444182, 0.2646616027219162, 0.2856477408593898, 0.30925729592893525, 0.33594650809441173, 0.3662753084830479, 0.4009369451742195, 0.440797978284289, 0.4869530100827344, 0.5408006990423111, 0.6041510737922202, 0.6793797969258417, 0.769654418585306, 0.8792737568385096, 1.014190021335894, 1.182835509100519, 1.3974753794571182, 1.6765073714116525, 2.0485501901036933, 2.560109231404816, 3.290908031115226, 4.387106404889913, 6.141023984061373, 9.21037993915209, 15.34909205824954, 30.695872599693494, 92.08299511357528]\n"
     ]
    }
   ],
   "source": [
    "print(lidar_ring_diff)"
   ]
  },
  {
   "cell_type": "code",
   "execution_count": 30,
   "metadata": {},
   "outputs": [],
   "source": [
    "# invert lida_ring_diff\n",
    "lidar_ring_diff = lidar_ring_diff[::-1]"
   ]
  }
 ],
 "metadata": {
  "kernelspec": {
   "display_name": "Python 3.8.10 64-bit",
   "language": "python",
   "name": "python3"
  },
  "language_info": {
   "codemirror_mode": {
    "name": "ipython",
    "version": 3
   },
   "file_extension": ".py",
   "mimetype": "text/x-python",
   "name": "python",
   "nbconvert_exporter": "python",
   "pygments_lexer": "ipython3",
   "version": "3.8.10"
  },
  "orig_nbformat": 4,
  "vscode": {
   "interpreter": {
    "hash": "31f2aee4e71d21fbe5cf8b01ff0e069b9275f58929596ceb00d14d90e3e16cd6"
   }
  }
 },
 "nbformat": 4,
 "nbformat_minor": 2
}
