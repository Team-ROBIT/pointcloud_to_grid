{
 "cells": [
  {
   "cell_type": "code",
   "execution_count": 1,
   "metadata": {},
   "outputs": [],
   "source": [
    "import numpy as np\n",
    "import math"
   ]
  },
  {
   "cell_type": "code",
   "execution_count": 2,
   "metadata": {},
   "outputs": [],
   "source": [
    "angle_increment = 45/128"
   ]
  },
  {
   "cell_type": "code",
   "execution_count": 3,
   "metadata": {},
   "outputs": [],
   "source": [
    "lidar_ring_ranges = []\n",
    "lidar_ring_diff = []"
   ]
  },
  {
   "cell_type": "code",
   "execution_count": 4,
   "metadata": {},
   "outputs": [],
   "source": [
    "initial_angle = 22.5\n",
    "prev_range = 0\n",
    "\n",
    "for ring in range(64):\n",
    "    current_angle = (initial_angle - (ring * angle_increment))\n",
    "    current_range = 1.125 / np.tan(np.radians(current_angle))\n",
    "    lidar_ring_ranges.append(current_range)\n",
    "    lidar_ring_diff.append(current_range - prev_range)\n",
    "    prev_range = current_range"
   ]
  },
  {
   "cell_type": "code",
   "execution_count": 5,
   "metadata": {},
   "outputs": [
    {
     "name": "stdout",
     "output_type": "stream",
     "text": [
      "[2.715990257669732, 2.763835654602799, 2.8131456273685393, 2.8639923566748653, 2.9164528324553314, 2.970609261448376, 3.026549516939564, 3.0843676358447536, 3.1441643690517864, 3.206047791799088, 3.2701339818737276, 3.336547774586232, 3.4054236048574955, 3.476906448374348, 3.5511528756833872, 3.628332235357147, 3.7086279850556103, 3.7922391925100847, 3.8793822322871523, 3.9702927087874045, 4.065227641470856, 4.164467954997102, 4.268321325099339, 4.377125440927329, 4.491251756741345, 4.6111098207893555, 4.73715228769065, 4.869880743637979, 5.009852502466212, 5.157688566760861, 5.314082993867588, 5.479813964812037, 5.655756928641579, 5.8429002908326835, 6.042364239379195, 6.2554234659327905, 6.483534755758661, 6.728370708791843, 6.991861242475166, 7.276245055277657, 7.584133956091862, 7.918593975212405, 8.283248596489775, 8.682411484384463, 9.121259029136521, 9.606057379882607, 10.144465155477826, 10.745942994430258, 11.422316686059968, 12.188565554120562, 13.063948719114652, 14.07365117398446, 15.25125289764648, 16.64254475772547, 18.311633954927338, 20.35111976365889, 22.899901078110588, 26.176247569265126, 30.543941998912164, 36.657793310477686, 45.82741935609371, 61.10859507780233, 91.66864523236444, 183.3441934649062]\n"
     ]
    }
   ],
   "source": [
    "print(lidar_ring_ranges)"
   ]
  },
  {
   "cell_type": "code",
   "execution_count": 30,
   "metadata": {},
   "outputs": [],
   "source": [
    "# invert lida_ring_diff\n",
    "lidar_ring_diff = lidar_ring_diff[::-1]"
   ]
  }
 ],
 "metadata": {
  "kernelspec": {
   "display_name": "Python 3.8.10 64-bit",
   "language": "python",
   "name": "python3"
  },
  "language_info": {
   "codemirror_mode": {
    "name": "ipython",
    "version": 3
   },
   "file_extension": ".py",
   "mimetype": "text/x-python",
   "name": "python",
   "nbconvert_exporter": "python",
   "pygments_lexer": "ipython3",
   "version": "3.8.10"
  },
  "orig_nbformat": 4,
  "vscode": {
   "interpreter": {
    "hash": "31f2aee4e71d21fbe5cf8b01ff0e069b9275f58929596ceb00d14d90e3e16cd6"
   }
  }
 },
 "nbformat": 4,
 "nbformat_minor": 2
}
